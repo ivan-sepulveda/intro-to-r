{
 "cells": [
  {
   "cell_type": "code",
   "execution_count": 1,
   "id": "0ec1af33",
   "metadata": {},
   "outputs": [
    {
     "data": {
      "text/html": [
       "'0'"
      ],
      "text/latex": [
       "'0'"
      ],
      "text/markdown": [
       "'0'"
      ],
      "text/plain": [
       "[1] \"0\""
      ]
     },
     "metadata": {},
     "output_type": "display_data"
    }
   ],
   "source": [
    "paste(0)"
   ]
  }
 ],
 "metadata": {
  "kernelspec": {
   "display_name": "R",
   "language": "R",
   "name": "ir"
  },
  "language_info": {
   "codemirror_mode": "r",
   "file_extension": ".r",
   "mimetype": "text/x-r-source",
   "name": "R",
   "pygments_lexer": "r",
   "version": "3.6.1"
  }
 },
 "nbformat": 4,
 "nbformat_minor": 5
}
