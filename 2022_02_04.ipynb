{
 "cells": [
  {
   "cell_type": "code",
   "execution_count": 30,
   "id": "5736984a",
   "metadata": {},
   "outputs": [],
   "source": [
    "# First we have to import all the relevant libraries (aka Packages)\n",
    "# Libraries/Packages are kits that organizations or independent users have created in order to\n",
    "# not 're-invent the wheel' each time they needed to complete a task.\n",
    "# In other words, they are sets of functions/methods/classes that help facilitate your programming\n",
    "# Allowing you to do the same job, with less (visible) lines of code\n"
   ]
  },
  {
   "cell_type": "code",
   "execution_count": 99,
   "id": "218ab7f4",
   "metadata": {},
   "outputs": [],
   "source": [
    "# R Primitives (Basic Data Types)\n",
    "# character: \"a\", \"swc\"\n",
    "# numeric: 2, 15.5\n",
    "# integer: 2L (the L tells R to store this as an integer)\n",
    "# logical: TRUE, FALSE\n",
    "# complex: 1+4i (complex numbers with real and imaginary parts)"
   ]
  },
  {
   "cell_type": "code",
   "execution_count": 104,
   "id": "eedc1aeb",
   "metadata": {},
   "outputs": [],
   "source": [
    "# Let's assign some variables with these basic data types\n",
    "ex_char <- \"abc\"\n",
    "ex_numeric <-  2.09\n",
    "ex_integer <-  2L \n",
    "ex_logical <-  TRUE\n",
    "ex_complex <-  1+4i "
   ]
  },
  {
   "cell_type": "code",
   "execution_count": 110,
   "id": "76d33bcb",
   "metadata": {},
   "outputs": [
    {
     "name": "stdout",
     "output_type": "stream",
     "text": [
      "[1] \"Hello!\"\n"
     ]
    }
   ],
   "source": [
    "# To display something in the console (show to user) we can use the print() function\n",
    "# Just put whatever you want to show inside the parenthesis\n",
    "print(\"Hello!\")"
   ]
  },
  {
   "cell_type": "code",
   "execution_count": 111,
   "id": "8f5a9121",
   "metadata": {},
   "outputs": [
    {
     "name": "stdout",
     "output_type": "stream",
     "text": [
      "[1] \"first part second part\"\n"
     ]
    }
   ],
   "source": [
    "# When we want to print multiple things that may not be all strings, we can paste() two things together\n",
    "pasted_string <- paste(\"first part\", \"second part\")\n",
    "print(pasted_string)"
   ]
  },
  {
   "cell_type": "code",
   "execution_count": 105,
   "id": "bda04ec1",
   "metadata": {},
   "outputs": [
    {
     "name": "stdout",
     "output_type": "stream",
     "text": [
      "[1] \"ex_char: abc character 112\"\n",
      "[1] \"ex_numeric: 2.09 double 56\"\n",
      "[1] \"ex_integer: 2 integer 56\"\n",
      "[1] \"ex_logical: TRUE logical 56\"\n",
      "[1] \"ex_complex: 1+4i complex 64\"\n"
     ]
    }
   ],
   "source": [
    "print(paste(\"ex_char:\", ex_char, typeof(ex_char), object.size(ex_char)))\n",
    "print(paste(\"ex_numeric:\", ex_numeric, typeof(ex_numeric), object.size(ex_numeric)))\n",
    "print(paste(\"ex_integer:\", ex_integer, typeof(ex_integer), object.size(ex_integer)))\n",
    "print(paste(\"ex_logical:\", ex_logical, typeof(ex_logical), object.size(ex_logical)))\n",
    "print(paste(\"ex_complex:\", ex_complex, typeof(ex_complex), object.size(ex_complex)))"
   ]
  },
  {
   "cell_type": "code",
   "execution_count": 29,
   "id": "b4a1b904",
   "metadata": {},
   "outputs": [
    {
     "name": "stdout",
     "output_type": "stream",
     "text": [
      "[1] \"Current Directory:  C:/Users/ivan.sepulveda.joinm/Box/Capital Markets/Ivan Sepulveda/into_to_r\"\n",
      "[1] \"Data Directory:  C:/Users/ivan.sepulveda.joinm/Box/Capital Markets/Ivan Sepulveda/into_to_r/data\"\n",
      "[1] \"Does data_dir exist? TRUE\"\n",
      "[1] \"Does fake_dir exist? FALSE\"\n"
     ]
    }
   ],
   "source": [
    "#current_os_fsep <- \"/\"\n",
    "current_dir <- getwd()\n",
    "data_dir <- file.path(current_dir, \"data\", fsep=\"/\")\n",
    "fake_dir <- file.path(current_dir, \"fake_directory\", fsep=\"/\")\n",
    "\n",
    "print(paste(\"Current Directory: \", current_dir))\n",
    "print(paste(\"Data Directory: \", data_dir))\n",
    "print(paste(\"Does data_dir exist?\", dir.exists(data_dir)))\n",
    "print(paste(\"Does fake_dir exist?\", dir.exists(fake_dir)))"
   ]
  },
  {
   "cell_type": "code",
   "execution_count": 35,
   "id": "a5049e57",
   "metadata": {},
   "outputs": [
    {
     "name": "stdout",
     "output_type": "stream",
     "text": [
      "[1] \"Does advertising.csv exist? TRUE\"\n"
     ]
    }
   ],
   "source": [
    "# Now that we've proven that the data directory exists/is accessable, we can read in the data file\n",
    "advertising_data_fp <- file.path(data_dir, \"advertising.csv\", fsep=\"/\")\n",
    "print(paste(\"Does advertising.csv exist?\", file.exists(advertising_data_fp)))\n",
    "\n",
    "advertising_df <- read.csv(advertising_data_fp)"
   ]
  },
  {
   "cell_type": "code",
   "execution_count": 41,
   "id": "9a4398c3",
   "metadata": {},
   "outputs": [
    {
     "data": {
      "text/html": [
       "<table>\n",
       "<thead><tr><th scope=col>Daily.Time.Spent.on.Site</th><th scope=col>Age</th><th scope=col>Area.Income</th><th scope=col>Daily.Internet.Usage</th><th scope=col>Ad.Topic.Line</th><th scope=col>City</th><th scope=col>Male</th><th scope=col>Country</th><th scope=col>Timestamp</th><th scope=col>Clicked.on.Ad</th></tr></thead>\n",
       "<tbody>\n",
       "\t<tr><td>68.95                                </td><td>35                                   </td><td>61833.90                             </td><td>256.09                               </td><td>Cloned 5thgeneration orchestration   </td><td>Wrightburgh                          </td><td>0                                    </td><td>Tunisia                              </td><td>2016-03-27 00:53:11                  </td><td>0                                    </td></tr>\n",
       "\t<tr><td>80.23                                </td><td>31                                   </td><td>68441.85                             </td><td>193.77                               </td><td>Monitored national standardization   </td><td>West Jodi                            </td><td>1                                    </td><td>Nauru                                </td><td>2016-04-04 01:39:02                  </td><td>0                                    </td></tr>\n",
       "\t<tr><td>69.47                                </td><td>26                                   </td><td>59785.94                             </td><td>236.50                               </td><td>Organic bottom-line service-desk     </td><td>Davidton                             </td><td>0                                    </td><td>San Marino                           </td><td>2016-03-13 20:35:42                  </td><td>0                                    </td></tr>\n",
       "\t<tr><td>74.15                                </td><td>29                                   </td><td>54806.18                             </td><td>245.89                               </td><td>Triple-buffered reciprocal time-frame</td><td>West Terrifurt                       </td><td>1                                    </td><td>Italy                                </td><td>2016-01-10 02:31:19                  </td><td>0                                    </td></tr>\n",
       "\t<tr><td>68.37                                </td><td>35                                   </td><td>73889.99                             </td><td>225.58                               </td><td>Robust logistical utilization        </td><td>South Manuel                         </td><td>0                                    </td><td>Iceland                              </td><td>2016-06-03 03:36:18                  </td><td>0                                    </td></tr>\n",
       "</tbody>\n",
       "</table>\n"
      ],
      "text/latex": [
       "\\begin{tabular}{r|llllllllll}\n",
       " Daily.Time.Spent.on.Site & Age & Area.Income & Daily.Internet.Usage & Ad.Topic.Line & City & Male & Country & Timestamp & Clicked.on.Ad\\\\\n",
       "\\hline\n",
       "\t 68.95                                 & 35                                    & 61833.90                              & 256.09                                & Cloned 5thgeneration orchestration    & Wrightburgh                           & 0                                     & Tunisia                               & 2016-03-27 00:53:11                   & 0                                    \\\\\n",
       "\t 80.23                                 & 31                                    & 68441.85                              & 193.77                                & Monitored national standardization    & West Jodi                             & 1                                     & Nauru                                 & 2016-04-04 01:39:02                   & 0                                    \\\\\n",
       "\t 69.47                                 & 26                                    & 59785.94                              & 236.50                                & Organic bottom-line service-desk      & Davidton                              & 0                                     & San Marino                            & 2016-03-13 20:35:42                   & 0                                    \\\\\n",
       "\t 74.15                                 & 29                                    & 54806.18                              & 245.89                                & Triple-buffered reciprocal time-frame & West Terrifurt                        & 1                                     & Italy                                 & 2016-01-10 02:31:19                   & 0                                    \\\\\n",
       "\t 68.37                                 & 35                                    & 73889.99                              & 225.58                                & Robust logistical utilization         & South Manuel                          & 0                                     & Iceland                               & 2016-06-03 03:36:18                   & 0                                    \\\\\n",
       "\\end{tabular}\n"
      ],
      "text/markdown": [
       "\n",
       "| Daily.Time.Spent.on.Site | Age | Area.Income | Daily.Internet.Usage | Ad.Topic.Line | City | Male | Country | Timestamp | Clicked.on.Ad |\n",
       "|---|---|---|---|---|---|---|---|---|---|\n",
       "| 68.95                                 | 35                                    | 61833.90                              | 256.09                                | Cloned 5thgeneration orchestration    | Wrightburgh                           | 0                                     | Tunisia                               | 2016-03-27 00:53:11                   | 0                                     |\n",
       "| 80.23                                 | 31                                    | 68441.85                              | 193.77                                | Monitored national standardization    | West Jodi                             | 1                                     | Nauru                                 | 2016-04-04 01:39:02                   | 0                                     |\n",
       "| 69.47                                 | 26                                    | 59785.94                              | 236.50                                | Organic bottom-line service-desk      | Davidton                              | 0                                     | San Marino                            | 2016-03-13 20:35:42                   | 0                                     |\n",
       "| 74.15                                 | 29                                    | 54806.18                              | 245.89                                | Triple-buffered reciprocal time-frame | West Terrifurt                        | 1                                     | Italy                                 | 2016-01-10 02:31:19                   | 0                                     |\n",
       "| 68.37                                 | 35                                    | 73889.99                              | 225.58                                | Robust logistical utilization         | South Manuel                          | 0                                     | Iceland                               | 2016-06-03 03:36:18                   | 0                                     |\n",
       "\n"
      ],
      "text/plain": [
       "  Daily.Time.Spent.on.Site Age Area.Income Daily.Internet.Usage\n",
       "1 68.95                    35  61833.90    256.09              \n",
       "2 80.23                    31  68441.85    193.77              \n",
       "3 69.47                    26  59785.94    236.50              \n",
       "4 74.15                    29  54806.18    245.89              \n",
       "5 68.37                    35  73889.99    225.58              \n",
       "  Ad.Topic.Line                         City           Male Country   \n",
       "1 Cloned 5thgeneration orchestration    Wrightburgh    0    Tunisia   \n",
       "2 Monitored national standardization    West Jodi      1    Nauru     \n",
       "3 Organic bottom-line service-desk      Davidton       0    San Marino\n",
       "4 Triple-buffered reciprocal time-frame West Terrifurt 1    Italy     \n",
       "5 Robust logistical utilization         South Manuel   0    Iceland   \n",
       "  Timestamp           Clicked.on.Ad\n",
       "1 2016-03-27 00:53:11 0            \n",
       "2 2016-04-04 01:39:02 0            \n",
       "3 2016-03-13 20:35:42 0            \n",
       "4 2016-01-10 02:31:19 0            \n",
       "5 2016-06-03 03:36:18 0            "
      ]
     },
     "metadata": {},
     "output_type": "display_data"
    }
   ],
   "source": [
    "# Head will print the first n rows. Tail will print the last n rows\n",
    "head(advertising_df, n=5)"
   ]
  },
  {
   "cell_type": "code",
   "execution_count": 59,
   "id": "d7bbae15",
   "metadata": {},
   "outputs": [
    {
     "data": {
      "text/html": [
       "<ol class=list-inline>\n",
       "\t<li>1000</li>\n",
       "\t<li>10</li>\n",
       "</ol>\n"
      ],
      "text/latex": [
       "\\begin{enumerate*}\n",
       "\\item 1000\n",
       "\\item 10\n",
       "\\end{enumerate*}\n"
      ],
      "text/markdown": [
       "1. 1000\n",
       "2. 10\n",
       "\n",
       "\n"
      ],
      "text/plain": [
       "[1] 1000   10"
      ]
     },
     "metadata": {},
     "output_type": "display_data"
    }
   ],
   "source": [
    "# Okay, we know how the first 5 rows look like\n",
    "# So what's the size/shape of the dataframe?\n",
    "dim(advertising_df) # Returns Rows, Columns\n"
   ]
  },
  {
   "cell_type": "code",
   "execution_count": 60,
   "id": "8efbcc2a",
   "metadata": {},
   "outputs": [
    {
     "name": "stdout",
     "output_type": "stream",
     "text": [
      "[1] \"advertising_df has 1000 rows and 10 columns\"\n"
     ]
    }
   ],
   "source": [
    "# Or in Human Readable Fommat\n",
    "print(paste(\"advertising_df has\", dim(advertising_df)[1], \"rows and\", dim(advertising_df)[2], \"columns\"))"
   ]
  },
  {
   "cell_type": "code",
   "execution_count": null,
   "id": "c4a48d33",
   "metadata": {},
   "outputs": [],
   "source": []
  }
 ],
 "metadata": {
  "kernelspec": {
   "display_name": "R",
   "language": "R",
   "name": "ir"
  },
  "language_info": {
   "codemirror_mode": "r",
   "file_extension": ".r",
   "mimetype": "text/x-r-source",
   "name": "R",
   "pygments_lexer": "r",
   "version": "3.6.1"
  }
 },
 "nbformat": 4,
 "nbformat_minor": 5
}
